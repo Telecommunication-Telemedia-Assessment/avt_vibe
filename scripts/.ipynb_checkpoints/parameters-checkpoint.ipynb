{
 "cells": [
  {
   "cell_type": "code",
   "execution_count": null,
   "id": "c4eb4235-501c-4f42-83bb-b7cb827f0f2a",
   "metadata": {},
   "outputs": [],
   "source": [
    "import json\n",
    "import pandas as pd\n",
    "import seaborn as sns\n",
    "sns.set(rc={'figure.figsize':(6,2)})\n",
    "sns.set_style(\"white\")\n",
    "\n",
    "def read_ldjson(filename):\n",
    "    res = []\n",
    "    with open(filename) as xfp:\n",
    "        for l in xfp:\n",
    "            res.append(json.loads(l))\n",
    "    return res"
   ]
  },
  {
   "cell_type": "code",
   "execution_count": null,
   "id": "9b43d5c2-1f94-413f-9338-296781eb06ce",
   "metadata": {},
   "outputs": [],
   "source": [
    "# which cpu\n",
    "!cat /proc/cpuinfo | grep \"model name\" | head -n 1"
   ]
  },
  {
   "cell_type": "code",
   "execution_count": null,
   "id": "5cb31ed8-0e88-4f94-85ad-b27cde92b694",
   "metadata": {},
   "outputs": [],
   "source": [
    "# test run of preset script\n",
    "!./avgtime.py 3 ./est_para.sh fast 26 2.mp4"
   ]
  },
  {
   "cell_type": "code",
   "execution_count": null,
   "id": "943b002d-a3d5-4941-af53-87c7178475c3",
   "metadata": {},
   "outputs": [],
   "source": [
    "! rm preset.ldjson\n",
    "for rep in range(20):\n",
    "    for preset in [\"ultrafast\", \"superfast\", \"veryfast\", \"faster\", \"fast\", \"medium\", \"slow\"]:\n",
    "        !./avgtime.py 1 ./est_para.sh {preset} 26 2.mp4 | grep \"cmd\" >> preset.ldjson"
   ]
  },
  {
   "cell_type": "code",
   "execution_count": null,
   "id": "4ca40839-bec8-4930-a96d-778f4193fb95",
   "metadata": {},
   "outputs": [],
   "source": [
    "dpreset = pd.DataFrame(read_ldjson(\"preset.ldjson\"))\n",
    "dpreset"
   ]
  },
  {
   "cell_type": "code",
   "execution_count": null,
   "id": "88c1631b-3319-4e28-824c-847520bcd3cd",
   "metadata": {},
   "outputs": [],
   "source": [
    "ax = sns.boxplot(x=\"avgtime\", y=\"arg_1\", data=dpreset)\n",
    "ax.set_title(\"preset variable; crf=26; 20 repetitions\")\n",
    "ax.set_xlabel(\"average time [s]\")\n",
    "ax.set_ylabel(\"preset\")\n",
    "ax.get_figure().savefig(\"preset.pdf\", bbox_inches=\"tight\")"
   ]
  },
  {
   "cell_type": "code",
   "execution_count": null,
   "id": "0f36bdb8-f46c-4dd8-bba8-2e32c059d167",
   "metadata": {},
   "outputs": [],
   "source": [
    "print(\"processing time [s] for medium\", dpreset[dpreset[\"arg_1\"] == \"medium\"][\"avgtime\"].mean())"
   ]
  },
  {
   "cell_type": "code",
   "execution_count": null,
   "id": "369af990-c149-441c-a2af-532f19bc2f17",
   "metadata": {},
   "outputs": [],
   "source": [
    "print(\"processing time [s] for superfast\", dpreset[dpreset[\"arg_1\"] == \"superfast\"][\"avgtime\"].mean())"
   ]
  },
  {
   "cell_type": "code",
   "execution_count": null,
   "id": "ae96de2f-a6c0-47c6-a1b6-1851897d53b5",
   "metadata": {},
   "outputs": [],
   "source": [
    "# run crf script\n",
    "! rm crf.ldjson\n",
    "for rep in range(20):\n",
    "    for crf in [20, 22, 24, 26, 28, 30, 32, 34]:\n",
    "        !./avgtime.py 1 ./est_para.sh medium {crf} 2.mp4 | grep \"cmd\" >> crf.ldjson\n",
    "    "
   ]
  },
  {
   "cell_type": "code",
   "execution_count": null,
   "id": "db6fab8d-fbbd-4b87-9e41-ce16efb59d86",
   "metadata": {},
   "outputs": [],
   "source": [
    "dcrf = pd.DataFrame(read_ldjson(\"crf.ldjson\"))\n",
    "dcrf"
   ]
  },
  {
   "cell_type": "code",
   "execution_count": null,
   "id": "b95513ef-9add-43b0-b11c-fb7558aa77f5",
   "metadata": {},
   "outputs": [],
   "source": [
    "ax = sns.boxplot(x=\"avgtime\", y=\"arg_2\", data=dcrf)\n",
    "ax.set_title(\"medium preset; crf variable; 20 repetitions\")\n",
    "ax.set_xlabel(\"average time [s]\")\n",
    "ax.set_ylabel(\"crf\")\n",
    "ax.get_figure().savefig(\"crf.pdf\", bbox_inches=\"tight\")\n"
   ]
  },
  {
   "cell_type": "code",
   "execution_count": null,
   "id": "5aaba873-9a80-44c6-a3e5-2c850fc22c8e",
   "metadata": {},
   "outputs": [],
   "source": [
    "print(\"processing time [s] for crf26\", dcrf[dcrf[\"arg_2\"] == \"26\"][\"avgtime\"].mean())"
   ]
  },
  {
   "cell_type": "code",
   "execution_count": null,
   "id": "91d2b1a4-ec41-4321-9db9-77b6fda225ec",
   "metadata": {},
   "outputs": [],
   "source": [
    "print(\"processing time [s] for crf28\", dcrf[dcrf[\"arg_2\"] == \"28\"][\"avgtime\"].mean())"
   ]
  },
  {
   "cell_type": "code",
   "execution_count": null,
   "id": "1c2069ad-286d-4ed2-a5ac-5af5d5f8bc28",
   "metadata": {},
   "outputs": [],
   "source": [
    "# run of frame sampling script; -crf 26 -preset medium\n",
    "! rm framesampling.ldjson\n",
    "for rep in range(20):\n",
    "    for framesampling in [5, 10, 20, 30, 60]:\n",
    "        !./avgtime.py 1 ./est_framesampling.sh {framesampling} 2.mp4 | grep \"cmd\" >> framesampling.ldjson"
   ]
  },
  {
   "cell_type": "code",
   "execution_count": null,
   "id": "61bf9c44-501a-4b1e-a525-bdb13ae9d0b8",
   "metadata": {},
   "outputs": [],
   "source": [
    "dframesampling = pd.DataFrame(read_ldjson(\"framesampling.ldjson\"))\n",
    "dframesampling"
   ]
  },
  {
   "cell_type": "code",
   "execution_count": null,
   "id": "9dda070d-76fb-4a44-bbda-49896e402129",
   "metadata": {},
   "outputs": [],
   "source": [
    "ax = sns.boxplot(x=\"avgtime\", y=\"arg_1\", data=dframesampling)\n",
    "ax.set_title(\"framesampling with medium preset; crf=26; 20 repetitions\")\n",
    "ax.set_xlabel(\"average time [s]\")\n",
    "ax.set_ylabel(\"interval\")\n",
    "ax.get_figure().savefig(\"framesampling.pdf\", bbox_inches=\"tight\")"
   ]
  },
  {
   "cell_type": "code",
   "execution_count": null,
   "id": "837021e8-e681-4afb-b745-eb33bff2ac87",
   "metadata": {},
   "outputs": [],
   "source": [
    "! rm -rf modelX.ldjson\n",
    "for rep in range(20):\n",
    "    !./avgtime.py 1 ./../models/est_sf_crf.sh 2.mp4 | grep \"cmd\" >> modelX.ldjson"
   ]
  },
  {
   "cell_type": "code",
   "execution_count": null,
   "id": "85ada4c8-618a-4846-84c8-5fd03a8b4f5e",
   "metadata": {},
   "outputs": [],
   "source": [
    "dX = pd.DataFrame(read_ldjson(\"modelX.ldjson\"))\n",
    "dX"
   ]
  },
  {
   "cell_type": "code",
   "execution_count": null,
   "id": "3378a70b-85ec-481e-bff7-18256143fa05",
   "metadata": {},
   "outputs": [],
   "source": [
    "dX[\"avgtime\"].mean(), dX[\"avgtime\"].std() "
   ]
  },
  {
   "cell_type": "code",
   "execution_count": null,
   "id": "ee985c56-a4ea-4cc5-9161-f7d45ec6022f",
   "metadata": {},
   "outputs": [],
   "source": [
    "! rm -rf modelY.ldjson\n",
    "for rep in range(20):\n",
    "    !./avgtime.py 1 ./../models/est_uf_qp_sr_crf.sh 2.mp4 | grep \"cmd\" >> modelY.ldjson"
   ]
  },
  {
   "cell_type": "code",
   "execution_count": null,
   "id": "5c385304-ec08-4fa4-b609-9bd6f4fdc2a8",
   "metadata": {},
   "outputs": [],
   "source": [
    "dY = pd.DataFrame(read_ldjson(\"modelY.ldjson\"))\n",
    "dY"
   ]
  },
  {
   "cell_type": "code",
   "execution_count": null,
   "id": "fd112b9d-1d53-4f77-a0d7-bf98128c6170",
   "metadata": {},
   "outputs": [],
   "source": [
    "dY[\"avgtime\"].mean(), dY[\"avgtime\"].std()"
   ]
  }
 ],
 "metadata": {
  "kernelspec": {
   "display_name": "Python 3 (ipykernel)",
   "language": "python",
   "name": "python3"
  },
  "language_info": {
   "codemirror_mode": {
    "name": "ipython",
    "version": 3
   },
   "file_extension": ".py",
   "mimetype": "text/x-python",
   "name": "python",
   "nbconvert_exporter": "python",
   "pygments_lexer": "ipython3",
   "version": "3.11.6"
  }
 },
 "nbformat": 4,
 "nbformat_minor": 5
}
